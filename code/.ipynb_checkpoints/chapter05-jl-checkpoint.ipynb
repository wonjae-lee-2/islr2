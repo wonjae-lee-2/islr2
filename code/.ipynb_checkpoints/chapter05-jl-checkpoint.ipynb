{
 "cells": [
  {
   "cell_type": "code",
   "execution_count": 1,
   "id": "2dfd6c13-85c7-4d02-b7fe-21afebbc4940",
   "metadata": {},
   "outputs": [],
   "source": [
    "using CSV, MLJ"
   ]
  },
  {
   "cell_type": "code",
   "execution_count": 2,
   "id": "653546cb-d332-44c4-8928-71a643dfed8a",
   "metadata": {},
   "outputs": [],
   "source": [
    "import DataFrames"
   ]
  },
  {
   "cell_type": "code",
   "execution_count": 3,
   "id": "a68893c7-59ff-4179-8577-c81ec8158211",
   "metadata": {},
   "outputs": [
    {
     "data": {
      "text/plain": [
       "10"
      ]
     },
     "execution_count": 3,
     "metadata": {},
     "output_type": "execute_result"
    }
   ],
   "source": [
    "ENV[\"LINES\"] = 10"
   ]
  },
  {
   "cell_type": "code",
   "execution_count": 4,
   "id": "ca6ebb8f-4f91-4c97-9b3d-1f3b771b3425",
   "metadata": {},
   "outputs": [
    {
     "data": {
      "text/plain": [
       "\"/root/github/islr2/data\""
      ]
     },
     "execution_count": 4,
     "metadata": {},
     "output_type": "execute_result"
    }
   ],
   "source": [
    "datafolder = expanduser(\"~/github/islr2/data\")"
   ]
  },
  {
   "cell_type": "code",
   "execution_count": 5,
   "id": "9390c484-7841-44bd-8dae-ffe6adbd8fe2",
   "metadata": {},
   "outputs": [
    {
     "data": {
      "text/html": [
       "<div class=\"data-frame\"><p>397 rows × 9 columns (omitted printing of 1 columns)</p><table class=\"data-frame\"><thead><tr><th></th><th>mpg</th><th>cylinders</th><th>displacement</th><th>horsepower</th><th>weight</th><th>acceleration</th><th>year</th><th>origin</th></tr><tr><th></th><th title=\"Float64\">Float64</th><th title=\"Int64\">Int64</th><th title=\"Float64\">Float64</th><th title=\"String3\">String3</th><th title=\"Int64\">Int64</th><th title=\"Float64\">Float64</th><th title=\"Int64\">Int64</th><th title=\"Int64\">Int64</th></tr></thead><tbody><tr><th>1</th><td>18.0</td><td>8</td><td>307.0</td><td>130</td><td>3504</td><td>12.0</td><td>70</td><td>1</td></tr><tr><th>2</th><td>15.0</td><td>8</td><td>350.0</td><td>165</td><td>3693</td><td>11.5</td><td>70</td><td>1</td></tr><tr><th>3</th><td>18.0</td><td>8</td><td>318.0</td><td>150</td><td>3436</td><td>11.0</td><td>70</td><td>1</td></tr><tr><th>4</th><td>16.0</td><td>8</td><td>304.0</td><td>150</td><td>3433</td><td>12.0</td><td>70</td><td>1</td></tr><tr><th>5</th><td>17.0</td><td>8</td><td>302.0</td><td>140</td><td>3449</td><td>10.5</td><td>70</td><td>1</td></tr><tr><th>6</th><td>15.0</td><td>8</td><td>429.0</td><td>198</td><td>4341</td><td>10.0</td><td>70</td><td>1</td></tr><tr><th>7</th><td>14.0</td><td>8</td><td>454.0</td><td>220</td><td>4354</td><td>9.0</td><td>70</td><td>1</td></tr><tr><th>8</th><td>14.0</td><td>8</td><td>440.0</td><td>215</td><td>4312</td><td>8.5</td><td>70</td><td>1</td></tr><tr><th>9</th><td>14.0</td><td>8</td><td>455.0</td><td>225</td><td>4425</td><td>10.0</td><td>70</td><td>1</td></tr><tr><th>10</th><td>15.0</td><td>8</td><td>390.0</td><td>190</td><td>3850</td><td>8.5</td><td>70</td><td>1</td></tr><tr><th>&vellip;</th><td>&vellip;</td><td>&vellip;</td><td>&vellip;</td><td>&vellip;</td><td>&vellip;</td><td>&vellip;</td><td>&vellip;</td><td>&vellip;</td></tr></tbody></table></div>"
      ],
      "text/latex": [
       "\\begin{tabular}{r|ccccccccc}\n",
       "\t& mpg & cylinders & displacement & horsepower & weight & acceleration & year & origin & \\\\\n",
       "\t\\hline\n",
       "\t& Float64 & Int64 & Float64 & String3 & Int64 & Float64 & Int64 & Int64 & \\\\\n",
       "\t\\hline\n",
       "\t1 & 18.0 & 8 & 307.0 & 130 & 3504 & 12.0 & 70 & 1 & $\\dots$ \\\\\n",
       "\t2 & 15.0 & 8 & 350.0 & 165 & 3693 & 11.5 & 70 & 1 & $\\dots$ \\\\\n",
       "\t3 & 18.0 & 8 & 318.0 & 150 & 3436 & 11.0 & 70 & 1 & $\\dots$ \\\\\n",
       "\t4 & 16.0 & 8 & 304.0 & 150 & 3433 & 12.0 & 70 & 1 & $\\dots$ \\\\\n",
       "\t5 & 17.0 & 8 & 302.0 & 140 & 3449 & 10.5 & 70 & 1 & $\\dots$ \\\\\n",
       "\t6 & 15.0 & 8 & 429.0 & 198 & 4341 & 10.0 & 70 & 1 & $\\dots$ \\\\\n",
       "\t7 & 14.0 & 8 & 454.0 & 220 & 4354 & 9.0 & 70 & 1 & $\\dots$ \\\\\n",
       "\t8 & 14.0 & 8 & 440.0 & 215 & 4312 & 8.5 & 70 & 1 & $\\dots$ \\\\\n",
       "\t9 & 14.0 & 8 & 455.0 & 225 & 4425 & 10.0 & 70 & 1 & $\\dots$ \\\\\n",
       "\t10 & 15.0 & 8 & 390.0 & 190 & 3850 & 8.5 & 70 & 1 & $\\dots$ \\\\\n",
       "\t$\\dots$ & $\\dots$ & $\\dots$ & $\\dots$ & $\\dots$ & $\\dots$ & $\\dots$ & $\\dots$ & $\\dots$ &  \\\\\n",
       "\\end{tabular}\n"
      ],
      "text/plain": [
       "\u001b[1m397×9 DataFrame\u001b[0m\n",
       "\u001b[1m Row \u001b[0m│\u001b[1m mpg     \u001b[0m\u001b[1m cylinders \u001b[0m\u001b[1m displacement \u001b[0m\u001b[1m horsepower \u001b[0m\u001b[1m weight \u001b[0m\u001b[1m acceleration \u001b[0m\u001b[1m yea\u001b[0m ⋯\n",
       "\u001b[1m     \u001b[0m│\u001b[90m Float64 \u001b[0m\u001b[90m Int64     \u001b[0m\u001b[90m Float64      \u001b[0m\u001b[90m String3    \u001b[0m\u001b[90m Int64  \u001b[0m\u001b[90m Float64      \u001b[0m\u001b[90m Int\u001b[0m ⋯\n",
       "─────┼──────────────────────────────────────────────────────────────────────────\n",
       "   1 │    18.0          8         307.0  130           3504          12.0      ⋯\n",
       "  ⋮  │    ⋮         ⋮           ⋮            ⋮         ⋮          ⋮          ⋮ ⋱\n",
       "\u001b[36m                                                  3 columns and 396 rows omitted\u001b[0m"
      ]
     },
     "execution_count": 5,
     "metadata": {},
     "output_type": "execute_result"
    }
   ],
   "source": [
    "dfauto_raw = CSV.read(joinpath(datafolder, \"Auto.csv\"), DataFrames.DataFrame)"
   ]
  },
  {
   "cell_type": "code",
   "execution_count": 6,
   "id": "ea4fdab0-b542-47b4-9dcb-556f168958be",
   "metadata": {},
   "outputs": [
    {
     "data": {
      "text/html": [
       "<div class=\"data-frame\"><p>392 rows × 9 columns (omitted printing of 1 columns)</p><table class=\"data-frame\"><thead><tr><th></th><th>mpg</th><th>cylinders</th><th>displacement</th><th>horsepower</th><th>weight</th><th>acceleration</th><th>year</th><th>origin</th></tr><tr><th></th><th title=\"Float64\">Float64</th><th title=\"Int64\">Int64</th><th title=\"Float64\">Float64</th><th title=\"Int64\">Int64</th><th title=\"Int64\">Int64</th><th title=\"Float64\">Float64</th><th title=\"Int64\">Int64</th><th title=\"Int64\">Int64</th></tr></thead><tbody><tr><th>1</th><td>18.0</td><td>8</td><td>307.0</td><td>130</td><td>3504</td><td>12.0</td><td>70</td><td>1</td></tr><tr><th>2</th><td>15.0</td><td>8</td><td>350.0</td><td>165</td><td>3693</td><td>11.5</td><td>70</td><td>1</td></tr><tr><th>3</th><td>18.0</td><td>8</td><td>318.0</td><td>150</td><td>3436</td><td>11.0</td><td>70</td><td>1</td></tr><tr><th>4</th><td>16.0</td><td>8</td><td>304.0</td><td>150</td><td>3433</td><td>12.0</td><td>70</td><td>1</td></tr><tr><th>5</th><td>17.0</td><td>8</td><td>302.0</td><td>140</td><td>3449</td><td>10.5</td><td>70</td><td>1</td></tr><tr><th>6</th><td>15.0</td><td>8</td><td>429.0</td><td>198</td><td>4341</td><td>10.0</td><td>70</td><td>1</td></tr><tr><th>7</th><td>14.0</td><td>8</td><td>454.0</td><td>220</td><td>4354</td><td>9.0</td><td>70</td><td>1</td></tr><tr><th>8</th><td>14.0</td><td>8</td><td>440.0</td><td>215</td><td>4312</td><td>8.5</td><td>70</td><td>1</td></tr><tr><th>9</th><td>14.0</td><td>8</td><td>455.0</td><td>225</td><td>4425</td><td>10.0</td><td>70</td><td>1</td></tr><tr><th>10</th><td>15.0</td><td>8</td><td>390.0</td><td>190</td><td>3850</td><td>8.5</td><td>70</td><td>1</td></tr><tr><th>&vellip;</th><td>&vellip;</td><td>&vellip;</td><td>&vellip;</td><td>&vellip;</td><td>&vellip;</td><td>&vellip;</td><td>&vellip;</td><td>&vellip;</td></tr></tbody></table></div>"
      ],
      "text/latex": [
       "\\begin{tabular}{r|ccccccccc}\n",
       "\t& mpg & cylinders & displacement & horsepower & weight & acceleration & year & origin & \\\\\n",
       "\t\\hline\n",
       "\t& Float64 & Int64 & Float64 & Int64 & Int64 & Float64 & Int64 & Int64 & \\\\\n",
       "\t\\hline\n",
       "\t1 & 18.0 & 8 & 307.0 & 130 & 3504 & 12.0 & 70 & 1 & $\\dots$ \\\\\n",
       "\t2 & 15.0 & 8 & 350.0 & 165 & 3693 & 11.5 & 70 & 1 & $\\dots$ \\\\\n",
       "\t3 & 18.0 & 8 & 318.0 & 150 & 3436 & 11.0 & 70 & 1 & $\\dots$ \\\\\n",
       "\t4 & 16.0 & 8 & 304.0 & 150 & 3433 & 12.0 & 70 & 1 & $\\dots$ \\\\\n",
       "\t5 & 17.0 & 8 & 302.0 & 140 & 3449 & 10.5 & 70 & 1 & $\\dots$ \\\\\n",
       "\t6 & 15.0 & 8 & 429.0 & 198 & 4341 & 10.0 & 70 & 1 & $\\dots$ \\\\\n",
       "\t7 & 14.0 & 8 & 454.0 & 220 & 4354 & 9.0 & 70 & 1 & $\\dots$ \\\\\n",
       "\t8 & 14.0 & 8 & 440.0 & 215 & 4312 & 8.5 & 70 & 1 & $\\dots$ \\\\\n",
       "\t9 & 14.0 & 8 & 455.0 & 225 & 4425 & 10.0 & 70 & 1 & $\\dots$ \\\\\n",
       "\t10 & 15.0 & 8 & 390.0 & 190 & 3850 & 8.5 & 70 & 1 & $\\dots$ \\\\\n",
       "\t$\\dots$ & $\\dots$ & $\\dots$ & $\\dots$ & $\\dots$ & $\\dots$ & $\\dots$ & $\\dots$ & $\\dots$ &  \\\\\n",
       "\\end{tabular}\n"
      ],
      "text/plain": [
       "\u001b[1m392×9 DataFrame\u001b[0m\n",
       "\u001b[1m Row \u001b[0m│\u001b[1m mpg     \u001b[0m\u001b[1m cylinders \u001b[0m\u001b[1m displacement \u001b[0m\u001b[1m horsepower \u001b[0m\u001b[1m weight \u001b[0m\u001b[1m acceleration \u001b[0m\u001b[1m yea\u001b[0m ⋯\n",
       "\u001b[1m     \u001b[0m│\u001b[90m Float64 \u001b[0m\u001b[90m Int64     \u001b[0m\u001b[90m Float64      \u001b[0m\u001b[90m Int64      \u001b[0m\u001b[90m Int64  \u001b[0m\u001b[90m Float64      \u001b[0m\u001b[90m Int\u001b[0m ⋯\n",
       "─────┼──────────────────────────────────────────────────────────────────────────\n",
       "   1 │    18.0          8         307.0         130    3504          12.0      ⋯\n",
       "  ⋮  │    ⋮         ⋮           ⋮            ⋮         ⋮          ⋮          ⋮ ⋱\n",
       "\u001b[36m                                                  3 columns and 391 rows omitted\u001b[0m"
      ]
     },
     "execution_count": 6,
     "metadata": {},
     "output_type": "execute_result"
    }
   ],
   "source": [
    "dfauto = dfauto_raw |>\n",
    "    x -> DataFrames.subset(x, :horsepower => a -> a .!= \"?\") |>\n",
    "    x -> DataFrames.transform(x, :horsepower => DataFrames.ByRow(a -> parse(Int, a)) => :horsepower)"
   ]
  },
  {
   "cell_type": "code",
   "execution_count": 7,
   "id": "c2b25ce1-51d0-4921-8ec6-25ec50bf0834",
   "metadata": {},
   "outputs": [
    {
     "data": {
      "text/plain": [
       "┌──────────────┬────────────┬─────────┐\n",
       "│\u001b[22m names        \u001b[0m│\u001b[22m scitypes   \u001b[0m│\u001b[22m types   \u001b[0m│\n",
       "├──────────────┼────────────┼─────────┤\n",
       "│ mpg          │ Continuous │ Float64 │\n",
       "│ cylinders    │ Count      │ Int64   │\n",
       "│      ⋮       │     ⋮      │    ⋮    │\n",
       "└──────────────┴────────────┴─────────┘\n",
       "\u001b[36m                         7 rows omitted\u001b[0m\n"
      ]
     },
     "execution_count": 7,
     "metadata": {},
     "output_type": "execute_result"
    }
   ],
   "source": [
    "schema(dfauto)"
   ]
  },
  {
   "cell_type": "code",
   "execution_count": 8,
   "id": "0f22c297-eab9-4238-b2fd-acbe457d298d",
   "metadata": {},
   "outputs": [
    {
     "name": "stdout",
     "output_type": "stream",
     "text": [
      "┌──────────────┬────────────┬─────────┐\n",
      "│\u001b[22m names        \u001b[0m│\u001b[22m scitypes   \u001b[0m│\u001b[22m types   \u001b[0m│\n",
      "├──────────────┼────────────┼─────────┤\n",
      "│ mpg          │ Continuous │ Float64 │\n",
      "│ cylinders    │ Count      │ Int64   │\n",
      "│ displacement │ Continuous │ Float64 │\n",
      "│ horsepower   │ Count      │ Int64   │\n",
      "│ weight       │ Count      │ Int64   │\n",
      "│ acceleration │ Continuous │ Float64 │\n",
      "│ year         │ Count      │ Int64   │\n",
      "│ origin       │ Count      │ Int64   │\n",
      "│ name         │ Textual    │ String  │\n",
      "└──────────────┴────────────┴─────────┘\n"
     ]
    }
   ],
   "source": [
    "show(stdout, \"text/plain\", schema(dfauto))"
   ]
  },
  {
   "cell_type": "code",
   "execution_count": 9,
   "id": "40b85fd4-7cc6-4a26-bf7b-fabffb22bfa5",
   "metadata": {},
   "outputs": [
    {
     "data": {
      "text/plain": [
       "392-element Vector{Float64}:\n",
       " 18.0\n",
       " 15.0\n",
       " 18.0\n",
       "  ⋮\n",
       " 28.0\n",
       " 31.0"
      ]
     },
     "execution_count": 9,
     "metadata": {},
     "output_type": "execute_result"
    }
   ],
   "source": [
    "y = dfauto[:, :mpg]"
   ]
  },
  {
   "cell_type": "code",
   "execution_count": 10,
   "id": "c4b0e810-3370-43fb-9048-d257666df71a",
   "metadata": {},
   "outputs": [
    {
     "data": {
      "text/html": [
       "<div class=\"data-frame\"><p>392 rows × 1 columns</p><table class=\"data-frame\"><thead><tr><th></th><th>horsepower</th></tr><tr><th></th><th title=\"Float64\">Float64</th></tr></thead><tbody><tr><th>1</th><td>130.0</td></tr><tr><th>2</th><td>165.0</td></tr><tr><th>3</th><td>150.0</td></tr><tr><th>4</th><td>150.0</td></tr><tr><th>5</th><td>140.0</td></tr><tr><th>6</th><td>198.0</td></tr><tr><th>7</th><td>220.0</td></tr><tr><th>8</th><td>215.0</td></tr><tr><th>9</th><td>225.0</td></tr><tr><th>10</th><td>190.0</td></tr><tr><th>&vellip;</th><td>&vellip;</td></tr></tbody></table></div>"
      ],
      "text/latex": [
       "\\begin{tabular}{r|c}\n",
       "\t& horsepower\\\\\n",
       "\t\\hline\n",
       "\t& Float64\\\\\n",
       "\t\\hline\n",
       "\t1 & 130.0 \\\\\n",
       "\t2 & 165.0 \\\\\n",
       "\t3 & 150.0 \\\\\n",
       "\t4 & 150.0 \\\\\n",
       "\t5 & 140.0 \\\\\n",
       "\t6 & 198.0 \\\\\n",
       "\t7 & 220.0 \\\\\n",
       "\t8 & 215.0 \\\\\n",
       "\t9 & 225.0 \\\\\n",
       "\t10 & 190.0 \\\\\n",
       "\t$\\dots$ & $\\dots$ \\\\\n",
       "\\end{tabular}\n"
      ],
      "text/plain": [
       "\u001b[1m392×1 DataFrame\u001b[0m\n",
       "\u001b[1m Row \u001b[0m│\u001b[1m horsepower \u001b[0m\n",
       "\u001b[1m     \u001b[0m│\u001b[90m Float64    \u001b[0m\n",
       "─────┼────────────\n",
       "   1 │      130.0\n",
       "  ⋮  │     ⋮\n",
       "\u001b[36m  391 rows omitted\u001b[0m"
      ]
     },
     "execution_count": 10,
     "metadata": {},
     "output_type": "execute_result"
    }
   ],
   "source": [
    "X = dfauto[:, [:horsepower]] |>\n",
    "    x -> coerce(x, :horsepower => Continuous)"
   ]
  },
  {
   "cell_type": "code",
   "execution_count": 11,
   "id": "3b8d83ee-4daf-454c-97f2-60cd47d79734",
   "metadata": {},
   "outputs": [
    {
     "data": {
      "text/plain": [
       "59-element Vector{NamedTuple{(:name, :package_name, :is_supervised, :abstract_type, :deep_properties, :docstring, :fit_data_scitype, :human_name, :hyperparameter_ranges, :hyperparameter_types, :hyperparameters, :implemented_methods, :inverse_transform_scitype, :is_pure_julia, :is_wrapper, :iteration_parameter, :load_path, :package_license, :package_url, :package_uuid, :predict_scitype, :prediction_type, :supports_class_weights, :supports_online, :supports_training_losses, :supports_weights, :transform_scitype, :input_scitype, :target_scitype, :output_scitype)}}:\n",
       " (name = ARDRegressor, package_name = ScikitLearn, ... )\n",
       " (name = AdaBoostRegressor, package_name = ScikitLearn, ... )\n",
       " (name = BaggingRegressor, package_name = ScikitLearn, ... )\n",
       " ⋮\n",
       " (name = TheilSenRegressor, package_name = ScikitLearn, ... )\n",
       " (name = XGBoostRegressor, package_name = XGBoost, ... )"
      ]
     },
     "execution_count": 11,
     "metadata": {},
     "output_type": "execute_result"
    }
   ],
   "source": [
    "models(matching(X, y))"
   ]
  },
  {
   "cell_type": "code",
   "execution_count": 12,
   "id": "6580c68c-5584-419c-91da-9b55abe4c266",
   "metadata": {},
   "outputs": [
    {
     "name": "stdout",
     "output_type": "stream",
     "text": [
      "59-element Vector{NamedTuple{(:name, :package_name, :is_supervised, :abstract_type, :deep_properties, :docstring, :fit_data_scitype, :human_name, :hyperparameter_ranges, :hyperparameter_types, :hyperparameters, :implemented_methods, :inverse_transform_scitype, :is_pure_julia, :is_wrapper, :iteration_parameter, :load_path, :package_license, :package_url, :package_uuid, :predict_scitype, :prediction_type, :supports_class_weights, :supports_online, :supports_training_losses, :supports_weights, :transform_scitype, :input_scitype, :target_scitype, :output_scitype)}}:\n",
      " (name = ARDRegressor, package_name = ScikitLearn, ... )\n",
      " (name = AdaBoostRegressor, package_name = ScikitLearn, ... )\n",
      " (name = BaggingRegressor, package_name = ScikitLearn, ... )\n",
      " (name = BayesianRidgeRegressor, package_name = ScikitLearn, ... )\n",
      " (name = ConstantRegressor, package_name = MLJModels, ... )\n",
      " (name = DecisionTreeRegressor, package_name = BetaML, ... )\n",
      " (name = DecisionTreeRegressor, package_name = DecisionTree, ... )\n",
      " (name = DeterministicConstantRegressor, package_name = MLJModels, ... )\n",
      " (name = DummyRegressor, package_name = ScikitLearn, ... )\n",
      " (name = ElasticNetCVRegressor, package_name = ScikitLearn, ... )\n",
      " (name = ElasticNetRegressor, package_name = MLJLinearModels, ... )\n",
      " (name = ElasticNetRegressor, package_name = ScikitLearn, ... )\n",
      " (name = EpsilonSVR, package_name = LIBSVM, ... )\n",
      " (name = EvoTreeGaussian, package_name = EvoTrees, ... )\n",
      " (name = EvoTreeRegressor, package_name = EvoTrees, ... )\n",
      " (name = ExtraTreesRegressor, package_name = ScikitLearn, ... )\n",
      " (name = GaussianProcessRegressor, package_name = ScikitLearn, ... )\n",
      " (name = GradientBoostingRegressor, package_name = ScikitLearn, ... )\n",
      " (name = HuberRegressor, package_name = MLJLinearModels, ... )\n",
      " (name = HuberRegressor, package_name = ScikitLearn, ... )\n",
      " (name = KNNRegressor, package_name = NearestNeighborModels, ... )\n",
      " (name = KNeighborsRegressor, package_name = ScikitLearn, ... )\n",
      " (name = KPLSRegressor, package_name = PartialLeastSquaresRegressor, ... )\n",
      " (name = LADRegressor, package_name = MLJLinearModels, ... )\n",
      " (name = LGBMRegressor, package_name = LightGBM, ... )\n",
      " (name = LarsCVRegressor, package_name = ScikitLearn, ... )\n",
      " (name = LarsRegressor, package_name = ScikitLearn, ... )\n",
      " (name = LassoCVRegressor, package_name = ScikitLearn, ... )\n",
      " (name = LassoLarsCVRegressor, package_name = ScikitLearn, ... )\n",
      " (name = LassoLarsICRegressor, package_name = ScikitLearn, ... )\n",
      " (name = LassoLarsRegressor, package_name = ScikitLearn, ... )\n",
      " (name = LassoRegressor, package_name = MLJLinearModels, ... )\n",
      " (name = LassoRegressor, package_name = ScikitLearn, ... )\n",
      " (name = LinearRegressor, package_name = GLM, ... )\n",
      " (name = LinearRegressor, package_name = MLJLinearModels, ... )\n",
      " (name = LinearRegressor, package_name = MultivariateStats, ... )\n",
      " (name = LinearRegressor, package_name = ScikitLearn, ... )\n",
      " (name = NeuralNetworkRegressor, package_name = MLJFlux, ... )\n",
      " (name = NuSVR, package_name = LIBSVM, ... )\n",
      " (name = OrthogonalMatchingPursuitCVRegressor, package_name = ScikitLearn, ... )\n",
      " (name = OrthogonalMatchingPursuitRegressor, package_name = ScikitLearn, ... )\n",
      " (name = PLSRegressor, package_name = PartialLeastSquaresRegressor, ... )\n",
      " (name = PassiveAggressiveRegressor, package_name = ScikitLearn, ... )\n",
      " (name = QuantileRegressor, package_name = MLJLinearModels, ... )\n",
      " (name = RANSACRegressor, package_name = ScikitLearn, ... )\n",
      " (name = RandomForestRegressor, package_name = BetaML, ... )\n",
      " (name = RandomForestRegressor, package_name = DecisionTree, ... )\n",
      " (name = RandomForestRegressor, package_name = ScikitLearn, ... )\n",
      " (name = RidgeCVRegressor, package_name = ScikitLearn, ... )\n",
      " (name = RidgeRegressor, package_name = MLJLinearModels, ... )\n",
      " (name = RidgeRegressor, package_name = MultivariateStats, ... )\n",
      " (name = RidgeRegressor, package_name = ScikitLearn, ... )\n",
      " (name = RobustRegressor, package_name = MLJLinearModels, ... )\n",
      " (name = SGDRegressor, package_name = ScikitLearn, ... )\n",
      " (name = SVMLinearRegressor, package_name = ScikitLearn, ... )\n",
      " (name = SVMNuRegressor, package_name = ScikitLearn, ... )\n",
      " (name = SVMRegressor, package_name = ScikitLearn, ... )\n",
      " (name = TheilSenRegressor, package_name = ScikitLearn, ... )\n",
      " (name = XGBoostRegressor, package_name = XGBoost, ... )"
     ]
    }
   ],
   "source": [
    "show(stdout, \"text/plain\", models(matching(X, y)))"
   ]
  },
  {
   "cell_type": "code",
   "execution_count": 13,
   "id": "4de58b08-5aef-43b1-b9b5-b4a68d758a3e",
   "metadata": {},
   "outputs": [
    {
     "name": "stdout",
     "output_type": "stream",
     "text": [
      "import MLJLinearModels ✔\n"
     ]
    },
    {
     "name": "stderr",
     "output_type": "stream",
     "text": [
      "┌ Info: For silent loading, specify `verbosity=0`. \n",
      "└ @ Main /root/.julia/packages/MLJModels/lDzCR/src/loading.jl:168\n"
     ]
    },
    {
     "data": {
      "text/plain": [
       "MLJLinearModels.LinearRegressor"
      ]
     },
     "execution_count": 13,
     "metadata": {},
     "output_type": "execute_result"
    }
   ],
   "source": [
    "LinearRegressor = @load LinearRegressor pkg = MLJLinearModels"
   ]
  },
  {
   "cell_type": "code",
   "execution_count": 14,
   "id": "645eac6c-cfeb-4508-a691-f2f0d7461a09",
   "metadata": {},
   "outputs": [
    {
     "data": {
      "text/plain": [
       "LinearRegressor(\n",
       "  fit_intercept = true, \n",
       "  solver = nothing)"
      ]
     },
     "execution_count": 14,
     "metadata": {},
     "output_type": "execute_result"
    }
   ],
   "source": [
    "linear = LinearRegressor()"
   ]
  },
  {
   "cell_type": "code",
   "execution_count": 15,
   "id": "bde6796b-e0ee-41d1-8514-e7c33bf3311b",
   "metadata": {},
   "outputs": [
    {
     "data": {
      "text/plain": [
       "Machine trained 0 times; caches data\n",
       "  model: LinearRegressor(fit_intercept = true, …)\n",
       "  args: \n",
       "    1:\tSource @756 ⏎ `Table{AbstractVector{Continuous}}`\n",
       "    2:\tSource @090 ⏎ `AbstractVector{Continuous}`\n"
      ]
     },
     "execution_count": 15,
     "metadata": {},
     "output_type": "execute_result"
    }
   ],
   "source": [
    "mach = machine(linear, X, y)"
   ]
  },
  {
   "cell_type": "code",
   "execution_count": 21,
   "id": "1ced1028-e3dc-407c-be01-2a7f68f6371e",
   "metadata": {},
   "outputs": [
    {
     "data": {
      "text/plain": [
       "PerformanceEvaluation object with these fields:\n",
       "  measure, operation, measurement, per_fold,\n",
       "  per_observation, fitted_params_per_fold,\n",
       "  report_per_fold, train_test_rows\n",
       "Extract:\n",
       "┌────────────────────────┬───────────┬─────────────┬──────────┐\n",
       "│\u001b[22m measure                \u001b[0m│\u001b[22m operation \u001b[0m│\u001b[22m measurement \u001b[0m│\u001b[22m per_fold \u001b[0m│\n",
       "├────────────────────────┼───────────┼─────────────┼──────────┤\n",
       "│ RootMeanSquaredError() │ predict   │ 4.96        │ [4.96]   │\n",
       "└────────────────────────┴───────────┴─────────────┴──────────┘\n"
      ]
     },
     "execution_count": 21,
     "metadata": {},
     "output_type": "execute_result"
    }
   ],
   "source": [
    "evaluate!(mach, resampling = Holdout(; fraction_train = 0.5, rng = 1), measure = rmse)"
   ]
  },
  {
   "cell_type": "code",
   "execution_count": 22,
   "id": "e4954381-8738-4057-ae49-a2099ceabc2d",
   "metadata": {},
   "outputs": [
    {
     "data": {
      "text/html": [
       "<div class=\"data-frame\"><p>392 rows × 2 columns</p><table class=\"data-frame\"><thead><tr><th></th><th>horsepower</th><th>horsepower2</th></tr><tr><th></th><th title=\"Float64\">Float64</th><th title=\"Float64\">Float64</th></tr></thead><tbody><tr><th>1</th><td>130.0</td><td>16900.0</td></tr><tr><th>2</th><td>165.0</td><td>27225.0</td></tr><tr><th>3</th><td>150.0</td><td>22500.0</td></tr><tr><th>4</th><td>150.0</td><td>22500.0</td></tr><tr><th>5</th><td>140.0</td><td>19600.0</td></tr><tr><th>6</th><td>198.0</td><td>39204.0</td></tr><tr><th>7</th><td>220.0</td><td>48400.0</td></tr><tr><th>8</th><td>215.0</td><td>46225.0</td></tr><tr><th>9</th><td>225.0</td><td>50625.0</td></tr><tr><th>10</th><td>190.0</td><td>36100.0</td></tr><tr><th>&vellip;</th><td>&vellip;</td><td>&vellip;</td></tr></tbody></table></div>"
      ],
      "text/latex": [
       "\\begin{tabular}{r|cc}\n",
       "\t& horsepower & horsepower2\\\\\n",
       "\t\\hline\n",
       "\t& Float64 & Float64\\\\\n",
       "\t\\hline\n",
       "\t1 & 130.0 & 16900.0 \\\\\n",
       "\t2 & 165.0 & 27225.0 \\\\\n",
       "\t3 & 150.0 & 22500.0 \\\\\n",
       "\t4 & 150.0 & 22500.0 \\\\\n",
       "\t5 & 140.0 & 19600.0 \\\\\n",
       "\t6 & 198.0 & 39204.0 \\\\\n",
       "\t7 & 220.0 & 48400.0 \\\\\n",
       "\t8 & 215.0 & 46225.0 \\\\\n",
       "\t9 & 225.0 & 50625.0 \\\\\n",
       "\t10 & 190.0 & 36100.0 \\\\\n",
       "\t$\\dots$ & $\\dots$ & $\\dots$ \\\\\n",
       "\\end{tabular}\n"
      ],
      "text/plain": [
       "\u001b[1m392×2 DataFrame\u001b[0m\n",
       "\u001b[1m Row \u001b[0m│\u001b[1m horsepower \u001b[0m\u001b[1m horsepower2 \u001b[0m\n",
       "\u001b[1m     \u001b[0m│\u001b[90m Float64    \u001b[0m\u001b[90m Float64     \u001b[0m\n",
       "─────┼─────────────────────────\n",
       "   1 │      130.0      16900.0\n",
       "  ⋮  │     ⋮            ⋮\n",
       "\u001b[36m               391 rows omitted\u001b[0m"
      ]
     },
     "execution_count": 22,
     "metadata": {},
     "output_type": "execute_result"
    }
   ],
   "source": [
    "X2 = DataFrames.transform(X, :horsepower => DataFrames.ByRow(x -> x^2) => :horsepower2)"
   ]
  },
  {
   "cell_type": "code",
   "execution_count": 23,
   "id": "6efcfea8-176e-485d-a23b-022a8ef608d6",
   "metadata": {},
   "outputs": [
    {
     "data": {
      "text/plain": [
       "Machine trained 0 times; caches data\n",
       "  model: LinearRegressor(fit_intercept = true, …)\n",
       "  args: \n",
       "    1:\tSource @584 ⏎ `Table{AbstractVector{Continuous}}`\n",
       "    2:\tSource @104 ⏎ `AbstractVector{Continuous}`\n"
      ]
     },
     "execution_count": 23,
     "metadata": {},
     "output_type": "execute_result"
    }
   ],
   "source": [
    "mach = machine(linear, X2, y)"
   ]
  },
  {
   "cell_type": "code",
   "execution_count": 27,
   "id": "810b1a43-0d64-434f-94d1-638dcb65aced",
   "metadata": {},
   "outputs": [
    {
     "data": {
      "text/plain": [
       "PerformanceEvaluation object with these fields:\n",
       "  measure, operation, measurement, per_fold,\n",
       "  per_observation, fitted_params_per_fold,\n",
       "  report_per_fold, train_test_rows\n",
       "Extract:\n",
       "┌────────────────────────┬───────────┬─────────────┬──────────┐\n",
       "│\u001b[22m measure                \u001b[0m│\u001b[22m operation \u001b[0m│\u001b[22m measurement \u001b[0m│\u001b[22m per_fold \u001b[0m│\n",
       "├────────────────────────┼───────────┼─────────────┼──────────┤\n",
       "│ RootMeanSquaredError() │ predict   │ 4.43        │ [4.43]   │\n",
       "└────────────────────────┴───────────┴─────────────┴──────────┘\n"
      ]
     },
     "execution_count": 27,
     "metadata": {},
     "output_type": "execute_result"
    }
   ],
   "source": [
    "evaluate!(mach, resampling = Holdout(fraction_train = 0.5, rng = 2), measure = rmse)"
   ]
  },
  {
   "cell_type": "code",
   "execution_count": null,
   "id": "42cb9445-8640-41ac-ae0d-ba41c9ad3db2",
   "metadata": {},
   "outputs": [],
   "source": []
  }
 ],
 "metadata": {
  "kernelspec": {
   "display_name": "Julia 1.7.2",
   "language": "julia",
   "name": "julia-1.7"
  },
  "language_info": {
   "file_extension": ".jl",
   "mimetype": "application/julia",
   "name": "julia",
   "version": "1.7.2"
  }
 },
 "nbformat": 4,
 "nbformat_minor": 5
}
